{
  "nbformat": 4,
  "nbformat_minor": 0,
  "metadata": {
    "colab": {
      "name": "Untitled13.ipynb",
      "provenance": [],
      "collapsed_sections": []
    },
    "kernelspec": {
      "name": "python3",
      "display_name": "Python 3"
    },
    "language_info": {
      "name": "python"
    }
  },
  "cells": [
    {
      "cell_type": "code",
      "execution_count": 136,
      "metadata": {
        "id": "O7pm6cE6Wxm4"
      },
      "outputs": [],
      "source": [
        "import cv2\n",
        "import glob\n",
        "import tensorflow as tf\n",
        "import keras\n",
        "import os\n",
        "from tensorflow.keras.utils import to_categorical\n",
        "%config Completer.use_jedi = False\n",
        "import pandas as pd\n",
        "import numpy as np\n",
        "import seaborn as sb\n",
        "import matplotlib.pyplot as plt\n",
        "np.random.seed(13)\n",
        "import warnings\n",
        "warnings.filterwarnings('ignore')"
      ]
    },
    {
      "cell_type": "code",
      "source": [
        "import numpy as np\n"
      ],
      "metadata": {
        "id": "-2Os9gREW1Yi"
      },
      "execution_count": 137,
      "outputs": []
    },
    {
      "cell_type": "code",
      "source": [
        "from google.colab import drive\n",
        "drive.mount('/content/drive')"
      ],
      "metadata": {
        "colab": {
          "base_uri": "https://localhost:8080/"
        },
        "id": "1N7J7QlFW4HY",
        "outputId": "050e7d4e-3649-4f11-eecf-8a8e39b56fea"
      },
      "execution_count": 138,
      "outputs": [
        {
          "output_type": "stream",
          "name": "stdout",
          "text": [
            "Drive already mounted at /content/drive; to attempt to forcibly remount, call drive.mount(\"/content/drive\", force_remount=True).\n"
          ]
        }
      ]
    },
    {
      "cell_type": "code",
      "source": [
        "df_train_X=pd.read_csv('/content/drive/MyDrive/project/X_train.csv',sep=',', index_col=0)\n",
        "df_train_y=pd.read_csv('/content/drive/MyDrive/project/y_train.csv',sep=',', index_col=0)\n",
        "df_val_X=pd.read_csv('/content/drive/MyDrive/project/X_test.csv',sep=',', index_col=0)\n",
        "df_val_y=pd.read_csv('/content/drive/MyDrive/project/y_test.csv',sep=',', index_col=0)\n"
      ],
      "metadata": {
        "id": "rzSl3IsVXBAV"
      },
      "execution_count": 139,
      "outputs": []
    },
    {
      "cell_type": "code",
      "source": [
        "import seaborn as sns\n",
        "import matplotlib.pyplot as plt\n",
        "from sklearn.model_selection import train_test_split\n",
        "# Division de la bd\n",
        "x_train,x_test,y_train,y_test=train_test_split(df_train_X,df_train_y,test_size=0.3,random_state=0)\n",
        "# Sur-échantillonnage\n",
        "from imblearn.over_sampling import RandomOverSampler\n",
        "rOs = RandomOverSampler()\n",
        "X_ro, y_ro = rOs.fit_resample(x_train, y_train)\n",
        "x_rtest, y_rtest = rOs.fit_resample(x_test, y_test)"
      ],
      "metadata": {
        "id": "GEiXUGxFZY5H"
      },
      "execution_count": 140,
      "outputs": []
    },
    {
      "cell_type": "code",
      "source": [
        "X_train=np.asarray(X_ro)\n",
        "y_train=np.asarray(y_ro)\n",
        "X_test=np.asarray(x_rtest)\n",
        "y_test=np.asarray(y_rtest)\n"
      ],
      "metadata": {
        "id": "INFqgAubXFFc"
      },
      "execution_count": 141,
      "outputs": []
    },
    {
      "cell_type": "code",
      "source": [
        "X_train.shape"
      ],
      "metadata": {
        "colab": {
          "base_uri": "https://localhost:8080/"
        },
        "id": "jya28boxXIoC",
        "outputId": "060a919e-9da4-4d43-cf61-ca5467172d87"
      },
      "execution_count": 142,
      "outputs": [
        {
          "output_type": "execute_result",
          "data": {
            "text/plain": [
              "(22360, 1024)"
            ]
          },
          "metadata": {},
          "execution_count": 142
        }
      ]
    },
    {
      "cell_type": "code",
      "source": [
        "y_train.shape"
      ],
      "metadata": {
        "colab": {
          "base_uri": "https://localhost:8080/"
        },
        "id": "_3RRNsWEXMce",
        "outputId": "9f289a5b-0cb9-4c29-df8d-3d5f34a2e54e"
      },
      "execution_count": 143,
      "outputs": [
        {
          "output_type": "execute_result",
          "data": {
            "text/plain": [
              "(22360, 1)"
            ]
          },
          "metadata": {},
          "execution_count": 143
        }
      ]
    },
    {
      "cell_type": "code",
      "source": [
        "X_test.shape"
      ],
      "metadata": {
        "colab": {
          "base_uri": "https://localhost:8080/"
        },
        "id": "Jis_fgxUXPRn",
        "outputId": "fc2ef542-3c6b-41ae-ee34-27fc3f86fa29"
      },
      "execution_count": 144,
      "outputs": [
        {
          "output_type": "execute_result",
          "data": {
            "text/plain": [
              "(9795, 1024)"
            ]
          },
          "metadata": {},
          "execution_count": 144
        }
      ]
    },
    {
      "cell_type": "code",
      "source": [
        "y_test.shape"
      ],
      "metadata": {
        "colab": {
          "base_uri": "https://localhost:8080/"
        },
        "id": "Eez0HYApXSbl",
        "outputId": "2a103f04-ca1e-4994-8d30-2d795427dda2"
      },
      "execution_count": 145,
      "outputs": [
        {
          "output_type": "execute_result",
          "data": {
            "text/plain": [
              "(9795, 1)"
            ]
          },
          "metadata": {},
          "execution_count": 145
        }
      ]
    },
    {
      "cell_type": "code",
      "source": [
        "X_train=X_train.reshape(22360, 32,32,1)"
      ],
      "metadata": {
        "id": "EOy3yqExXVYT"
      },
      "execution_count": 146,
      "outputs": []
    },
    {
      "cell_type": "code",
      "source": [
        "y_train=y_train.reshape(22360,1)"
      ],
      "metadata": {
        "id": "Ndd-LgORXYLw"
      },
      "execution_count": 147,
      "outputs": []
    },
    {
      "cell_type": "code",
      "source": [
        "X_test=X_test.reshape(9795, 32,32,1)"
      ],
      "metadata": {
        "id": "u-nbG1UgXbIK"
      },
      "execution_count": 148,
      "outputs": []
    },
    {
      "cell_type": "code",
      "source": [
        "y_test=y_test.reshape(9795,1)"
      ],
      "metadata": {
        "id": "i_Y_7flUXesl"
      },
      "execution_count": 149,
      "outputs": []
    },
    {
      "cell_type": "code",
      "source": [
        "X,y = rOs.fit_resample(df_val_X,df_val_y)"
      ],
      "metadata": {
        "id": "1-d_yO9Gns2j"
      },
      "execution_count": 150,
      "outputs": []
    },
    {
      "cell_type": "code",
      "source": [
        "X.shape"
      ],
      "metadata": {
        "colab": {
          "base_uri": "https://localhost:8080/"
        },
        "id": "KjsAGaRYoBJS",
        "outputId": "bf6313d8-b13e-4962-e108-e218006467e2"
      },
      "execution_count": 151,
      "outputs": [
        {
          "output_type": "execute_result",
          "data": {
            "text/plain": [
              "(8040, 1024)"
            ]
          },
          "metadata": {},
          "execution_count": 151
        }
      ]
    },
    {
      "cell_type": "code",
      "source": [
        "y.shape"
      ],
      "metadata": {
        "colab": {
          "base_uri": "https://localhost:8080/"
        },
        "id": "5oiHhBN2oJ_9",
        "outputId": "9a9e9aab-553a-46ff-ff37-92d190ef7156"
      },
      "execution_count": 152,
      "outputs": [
        {
          "output_type": "execute_result",
          "data": {
            "text/plain": [
              "(8040, 1)"
            ]
          },
          "metadata": {},
          "execution_count": 152
        }
      ]
    },
    {
      "cell_type": "code",
      "source": [
        "X_val=np.asarray(X)\n",
        "y_val=np.asarray(y)"
      ],
      "metadata": {
        "id": "oirxXtO7oMC3"
      },
      "execution_count": 153,
      "outputs": []
    },
    {
      "cell_type": "code",
      "source": [
        "X_val=X_val.reshape(8040, 32,32,1)\n",
        "y_val=y_val.reshape(8040,1)"
      ],
      "metadata": {
        "id": "4SVgHEMUps1v"
      },
      "execution_count": 154,
      "outputs": []
    },
    {
      "cell_type": "code",
      "source": [
        "from skimage.transform import resize\n",
        "X_train=resize(X_train,(22360,32,32,1))\n",
        "X_test=resize(X_test,(9795,32,32,1))\n",
        "X_val=resize(X_val,(8040,32,32,1))"
      ],
      "metadata": {
        "id": "nBwpGY42XiSQ"
      },
      "execution_count": 155,
      "outputs": []
    },
    {
      "cell_type": "code",
      "source": [
        "import tensorflow as tf\n",
        "import matplotlib.pyplot as plt\n",
        "import numpy as np\n",
        "from tensorflow.keras.datasets import cifar10\n",
        "from tensorflow.keras.preprocessing.image import ImageDataGenerator\n",
        "from tensorflow.keras.models import Sequential\n",
        "from tensorflow.keras.layers import Dense,Activation,Flatten\n",
        "from tensorflow.keras.layers import Conv2D,MaxPooling2D\n",
        "from keras.models import load_model\n",
        "from PIL import Image\n"
      ],
      "metadata": {
        "id": "gT5BcrPukzCn"
      },
      "execution_count": 156,
      "outputs": []
    },
    {
      "cell_type": "code",
      "source": [
        "module =Sequential()\n"
      ],
      "metadata": {
        "id": "qgDu7WVlk0Ks"
      },
      "execution_count": 157,
      "outputs": []
    },
    {
      "cell_type": "code",
      "source": [
        "module.add(Conv2D(64,3,input_shape=(32,32,1)))\n",
        "module.add(Activation('relu'))\n",
        "module.add(MaxPooling2D(pool_size=(2,2)))"
      ],
      "metadata": {
        "id": "xbjt0jcMk2qW"
      },
      "execution_count": 158,
      "outputs": []
    },
    {
      "cell_type": "code",
      "source": [
        "module.add(Flatten())\n"
      ],
      "metadata": {
        "id": "WYGjMxkxk58J"
      },
      "execution_count": 159,
      "outputs": []
    },
    {
      "cell_type": "code",
      "source": [
        "module.add(Dense(200))\n",
        "module.add(Dense(5))\n",
        "module.add(Activation('softmax'))\n",
        "module.compile(loss='sparse_categorical_crossentropy',optimizer=\"Adam\",metrics=['sparse_categorical_accuracy'])"
      ],
      "metadata": {
        "id": "pTueWN_lk9H3"
      },
      "execution_count": 160,
      "outputs": []
    },
    {
      "cell_type": "code",
      "source": [
        "module.summary()"
      ],
      "metadata": {
        "colab": {
          "base_uri": "https://localhost:8080/"
        },
        "id": "rJfF9Hf_lADV",
        "outputId": "3e712590-4bb9-487d-f870-efcdb173b2fd"
      },
      "execution_count": 161,
      "outputs": [
        {
          "output_type": "stream",
          "name": "stdout",
          "text": [
            "Model: \"sequential_1\"\n",
            "_________________________________________________________________\n",
            " Layer (type)                Output Shape              Param #   \n",
            "=================================================================\n",
            " conv2d_1 (Conv2D)           (None, 30, 30, 64)        640       \n",
            "                                                                 \n",
            " activation_2 (Activation)   (None, 30, 30, 64)        0         \n",
            "                                                                 \n",
            " max_pooling2d_1 (MaxPooling  (None, 15, 15, 64)       0         \n",
            " 2D)                                                             \n",
            "                                                                 \n",
            " flatten_1 (Flatten)         (None, 14400)             0         \n",
            "                                                                 \n",
            " dense_2 (Dense)             (None, 200)               2880200   \n",
            "                                                                 \n",
            " dense_3 (Dense)             (None, 5)                 1005      \n",
            "                                                                 \n",
            " activation_3 (Activation)   (None, 5)                 0         \n",
            "                                                                 \n",
            "=================================================================\n",
            "Total params: 2,881,845\n",
            "Trainable params: 2,881,845\n",
            "Non-trainable params: 0\n",
            "_________________________________________________________________\n"
          ]
        }
      ]
    },
    {
      "cell_type": "code",
      "source": [
        "module.fit(X_train,y_train,batch_size=32,epochs=3)"
      ],
      "metadata": {
        "colab": {
          "base_uri": "https://localhost:8080/"
        },
        "id": "6U3DHMAflDjv",
        "outputId": "e70f8d1c-c0da-446a-e25b-0889b0ea8fba"
      },
      "execution_count": 162,
      "outputs": [
        {
          "output_type": "stream",
          "name": "stdout",
          "text": [
            "Epoch 1/3\n",
            "699/699 [==============================] - 34s 48ms/step - loss: 1.7278 - sparse_categorical_accuracy: 0.2346\n",
            "Epoch 2/3\n",
            "699/699 [==============================] - 29s 41ms/step - loss: 1.4880 - sparse_categorical_accuracy: 0.4273\n",
            "Epoch 3/3\n",
            "699/699 [==============================] - 29s 41ms/step - loss: 0.9003 - sparse_categorical_accuracy: 0.6730\n"
          ]
        },
        {
          "output_type": "execute_result",
          "data": {
            "text/plain": [
              "<keras.callbacks.History at 0x7fb380db6b10>"
            ]
          },
          "metadata": {},
          "execution_count": 162
        }
      ]
    },
    {
      "cell_type": "code",
      "source": [
        "test_loss,test_accuracy=module.evaluate(X_test,y_test)"
      ],
      "metadata": {
        "colab": {
          "base_uri": "https://localhost:8080/"
        },
        "id": "tHCoEIi0s7lN",
        "outputId": "4dc2a7a7-ca74-4066-cc71-772ec3dcc82d"
      },
      "execution_count": 163,
      "outputs": [
        {
          "output_type": "stream",
          "name": "stdout",
          "text": [
            "307/307 [==============================] - 3s 10ms/step - loss: 0.7511 - sparse_categorical_accuracy: 0.7579\n"
          ]
        }
      ]
    },
    {
      "cell_type": "code",
      "source": [
        "test_loss,test_accuracy=module.evaluate(X_val,y_val)"
      ],
      "metadata": {
        "colab": {
          "base_uri": "https://localhost:8080/"
        },
        "id": "A-PseoyWs-KM",
        "outputId": "f5c68f75-0957-4dbd-f87f-c9e0a3b39d47"
      },
      "execution_count": 164,
      "outputs": [
        {
          "output_type": "stream",
          "name": "stdout",
          "text": [
            "252/252 [==============================] - 2s 10ms/step - loss: 1.1774 - sparse_categorical_accuracy: 0.5974\n"
          ]
        }
      ]
    },
    {
      "cell_type": "code",
      "source": [
        "module.fit(X_train,y_train,batch_size=32,epochs=1)"
      ],
      "metadata": {
        "colab": {
          "base_uri": "https://localhost:8080/"
        },
        "id": "IiMDxjtzlYr3",
        "outputId": "afd931e3-313f-4541-d718-6fe9ff0765cc"
      },
      "execution_count": 166,
      "outputs": [
        {
          "output_type": "stream",
          "name": "stdout",
          "text": [
            "699/699 [==============================] - 29s 41ms/step - loss: 0.6504 - sparse_categorical_accuracy: 0.7708\n"
          ]
        },
        {
          "output_type": "execute_result",
          "data": {
            "text/plain": [
              "<keras.callbacks.History at 0x7fb383b30610>"
            ]
          },
          "metadata": {},
          "execution_count": 166
        }
      ]
    },
    {
      "cell_type": "code",
      "source": [
        "test_loss,test_accuracy=module.evaluate(X_test,y_test)\n"
      ],
      "metadata": {
        "colab": {
          "base_uri": "https://localhost:8080/"
        },
        "id": "zFb6dvbeloFh",
        "outputId": "180d6d1b-d69d-48cf-d51b-ca8750668740"
      },
      "execution_count": 167,
      "outputs": [
        {
          "output_type": "stream",
          "name": "stdout",
          "text": [
            "307/307 [==============================] - 3s 10ms/step - loss: 0.5830 - sparse_categorical_accuracy: 0.7863\n"
          ]
        }
      ]
    },
    {
      "cell_type": "code",
      "source": [
        "test_loss,test_accuracy=module.evaluate(X_val,y_val)\n"
      ],
      "metadata": {
        "colab": {
          "base_uri": "https://localhost:8080/"
        },
        "id": "Pg7xoLsRluGN",
        "outputId": "ed1338d5-8202-4abb-b919-45d6f4a184e1"
      },
      "execution_count": 168,
      "outputs": [
        {
          "output_type": "stream",
          "name": "stdout",
          "text": [
            "252/252 [==============================] - 3s 10ms/step - loss: 1.0621 - sparse_categorical_accuracy: 0.6361\n"
          ]
        }
      ]
    },
    {
      "cell_type": "code",
      "source": [
        "module.save('/content/drive/MyDrive/tfmodel4.lt')"
      ],
      "metadata": {
        "colab": {
          "base_uri": "https://localhost:8080/"
        },
        "id": "ASQPFzc3t6mY",
        "outputId": "87bb032c-86a0-4be2-a417-89a35ed45b89"
      },
      "execution_count": 171,
      "outputs": [
        {
          "output_type": "stream",
          "name": "stdout",
          "text": [
            "INFO:tensorflow:Assets written to: /content/drive/MyDrive/tfmodel4.lt/assets\n"
          ]
        }
      ]
    },
    {
      "cell_type": "code",
      "source": [
        "del module"
      ],
      "metadata": {
        "id": "qVKrSkE2vQT3"
      },
      "execution_count": 175,
      "outputs": []
    },
    {
      "cell_type": "code",
      "source": [
        "module = load_model('/content/drive/MyDrive/tfmodel4.lt')"
      ],
      "metadata": {
        "id": "SGTon2PCvStd"
      },
      "execution_count": 176,
      "outputs": []
    },
    {
      "cell_type": "code",
      "source": [
        "test_loss,test_accuracy=module.evaluate(X_val,y_val)\n"
      ],
      "metadata": {
        "colab": {
          "base_uri": "https://localhost:8080/"
        },
        "id": "m6plApYDvZS4",
        "outputId": "53c5ec79-12d9-4f72-ca06-1483718c02f8"
      },
      "execution_count": 177,
      "outputs": [
        {
          "output_type": "stream",
          "name": "stdout",
          "text": [
            "252/252 [==============================] - 4s 15ms/step - loss: 1.0621 - sparse_categorical_accuracy: 0.6361\n"
          ]
        }
      ]
    },
    {
      "cell_type": "code",
      "source": [
        "file = \"/content/drive/MyDrive/tfmodel4.lt\"\n",
        "tf.saved_model.save(module, file)\n",
        "converter = tf.lite.TFLiteConverter.from_saved_model(file)\n",
        "tflite_model = converter.convert()"
      ],
      "metadata": {
        "colab": {
          "base_uri": "https://localhost:8080/"
        },
        "id": "z1wIVlqNvdj1",
        "outputId": "47e4b8d7-02ef-4e39-fdb4-e061ec795613"
      },
      "execution_count": 178,
      "outputs": [
        {
          "output_type": "stream",
          "name": "stdout",
          "text": [
            "INFO:tensorflow:Assets written to: /content/drive/MyDrive/tfmodel4.lt/assets\n"
          ]
        },
        {
          "output_type": "stream",
          "name": "stderr",
          "text": [
            "WARNING:absl:Buffer deduplication procedure will be skipped when flatbuffer library is not properly loaded\n"
          ]
        }
      ]
    },
    {
      "cell_type": "code",
      "source": [
        "import pathlib\n",
        "tflite_model_file = pathlib.Path('/content/drive/MyDrive/model4.tflite')\n",
        "tflite_model_file.write_bytes(tflite_model)"
      ],
      "metadata": {
        "colab": {
          "base_uri": "https://localhost:8080/"
        },
        "id": "zcuVlr56vkK_",
        "outputId": "033d9258-dae0-4273-b113-02f96f7ab9f7"
      },
      "execution_count": 179,
      "outputs": [
        {
          "output_type": "execute_result",
          "data": {
            "text/plain": [
              "11529008"
            ]
          },
          "metadata": {},
          "execution_count": 179
        }
      ]
    },
    {
      "cell_type": "code",
      "source": [
        "tflite_model='/content/drive/MyDrive/model4.tflite'\n",
        "interpreter = tf.lite.Interpreter(model_path=tflite_model)\n",
        "interpreter.allocate_tensors()"
      ],
      "metadata": {
        "id": "v7RA6VfgvqYm"
      },
      "execution_count": 180,
      "outputs": []
    },
    {
      "cell_type": "code",
      "source": [
        "input_details = interpreter.get_input_details()\n",
        "output_details = interpreter.get_output_details()"
      ],
      "metadata": {
        "id": "-G6tL-7avvzo"
      },
      "execution_count": 181,
      "outputs": []
    },
    {
      "cell_type": "code",
      "source": [
        "input_details"
      ],
      "metadata": {
        "colab": {
          "base_uri": "https://localhost:8080/"
        },
        "id": "0shGbsG6vyw6",
        "outputId": "3199f22e-fda9-4962-9881-cb45ea3aac9f"
      },
      "execution_count": 182,
      "outputs": [
        {
          "output_type": "execute_result",
          "data": {
            "text/plain": [
              "[{'dtype': numpy.float32,\n",
              "  'index': 0,\n",
              "  'name': 'serving_default_conv2d_1_input:0',\n",
              "  'quantization': (0.0, 0),\n",
              "  'quantization_parameters': {'quantized_dimension': 0,\n",
              "   'scales': array([], dtype=float32),\n",
              "   'zero_points': array([], dtype=int32)},\n",
              "  'shape': array([ 1, 32, 32,  1], dtype=int32),\n",
              "  'shape_signature': array([-1, 32, 32,  1], dtype=int32),\n",
              "  'sparsity_parameters': {}}]"
            ]
          },
          "metadata": {},
          "execution_count": 182
        }
      ]
    },
    {
      "cell_type": "code",
      "source": [
        "output_details"
      ],
      "metadata": {
        "colab": {
          "base_uri": "https://localhost:8080/"
        },
        "id": "CjM_928Fv1a9",
        "outputId": "82bccf72-0b41-44e6-ddfa-2bde4fa02d36"
      },
      "execution_count": 183,
      "outputs": [
        {
          "output_type": "execute_result",
          "data": {
            "text/plain": [
              "[{'dtype': numpy.float32,\n",
              "  'index': 12,\n",
              "  'name': 'StatefulPartitionedCall:0',\n",
              "  'quantization': (0.0, 0),\n",
              "  'quantization_parameters': {'quantized_dimension': 0,\n",
              "   'scales': array([], dtype=float32),\n",
              "   'zero_points': array([], dtype=int32)},\n",
              "  'shape': array([1, 5], dtype=int32),\n",
              "  'shape_signature': array([-1,  5], dtype=int32),\n",
              "  'sparsity_parameters': {}}]"
            ]
          },
          "metadata": {},
          "execution_count": 183
        }
      ]
    },
    {
      "cell_type": "code",
      "source": [
        "from google.colab.patches import cv2_imshow"
      ],
      "metadata": {
        "id": "N0ssKDYlv7LM"
      },
      "execution_count": 184,
      "outputs": []
    },
    {
      "cell_type": "code",
      "source": [
        "b=\"/content/drive/MyDrive/test/2/31.png\"\n",
        "img=plt.imread(b)\n",
        "plt.imshow(img)"
      ],
      "metadata": {
        "colab": {
          "base_uri": "https://localhost:8080/",
          "height": 289
        },
        "id": "jKLLP--Xv-RH",
        "outputId": "562c578d-a366-4223-b26d-b6aa44a1d7bf"
      },
      "execution_count": 185,
      "outputs": [
        {
          "output_type": "execute_result",
          "data": {
            "text/plain": [
              "<matplotlib.image.AxesImage at 0x7fb382c3f950>"
            ]
          },
          "metadata": {},
          "execution_count": 185
        },
        {
          "output_type": "display_data",
          "data": {
            "image/png": "[encoded data removed]",
            "text/plain": [
              "<Figure size 432x288 with 1 Axes>"
            ]
          },
          "metadata": {}
        }
      ]
    },
    {
      "cell_type": "code",
      "source": [
        "from skimage import color\n",
        "from skimage.transform import resize\n",
        "resized_image = resize(img,(32,32,3))\n",
        "imgGray = color.rgb2gray(resized_image)"
      ],
      "metadata": {
        "id": "cMeaiZglwEl4"
      },
      "execution_count": 186,
      "outputs": []
    },
    {
      "cell_type": "code",
      "source": [
        "plt.imshow(imgGray)"
      ],
      "metadata": {
        "colab": {
          "base_uri": "https://localhost:8080/",
          "height": 285
        },
        "id": "P8YJ4UEEwLsH",
        "outputId": "58bef584-b170-4315-a2d1-9bc43c30d912"
      },
      "execution_count": 187,
      "outputs": [
        {
          "output_type": "execute_result",
          "data": {
            "text/plain": [
              "<matplotlib.image.AxesImage at 0x7fb383349190>"
            ]
          },
          "metadata": {},
          "execution_count": 187
        },
        {
          "output_type": "display_data",
          "data": {
            "image/png": "[encoded data removed]",
            "text/plain": [
              "<Figure size 432x288 with 1 Axes>"
            ]
          },
          "metadata": {}
        }
      ]
    },
    {
      "cell_type": "code",
      "source": [
        "X_train.shape"
      ],
      "metadata": {
        "colab": {
          "base_uri": "https://localhost:8080/"
        },
        "id": "RMco3GaVwQlc",
        "outputId": "80b38900-d0e9-4915-cf1b-ebd4de8d3189"
      },
      "execution_count": 188,
      "outputs": [
        {
          "output_type": "execute_result",
          "data": {
            "text/plain": [
              "(22360, 32, 32, 1)"
            ]
          },
          "metadata": {},
          "execution_count": 188
        }
      ]
    },
    {
      "cell_type": "code",
      "source": [
        "imgGray.shape"
      ],
      "metadata": {
        "colab": {
          "base_uri": "https://localhost:8080/"
        },
        "id": "vQQfHRglwWXA",
        "outputId": "f431ac75-3e71-4e87-f1ab-ba2e97d67f85"
      },
      "execution_count": 189,
      "outputs": [
        {
          "output_type": "execute_result",
          "data": {
            "text/plain": [
              "(32, 32)"
            ]
          },
          "metadata": {},
          "execution_count": 189
        }
      ]
    },
    {
      "cell_type": "code",
      "source": [
        "g=imgGray.reshape((1,32,32,1))"
      ],
      "metadata": {
        "id": "OZO2JImzwZRs"
      },
      "execution_count": 190,
      "outputs": []
    },
    {
      "cell_type": "code",
      "source": [
        "to_predict = np.array(np.array(g),dtype='float32')\n",
        "interpreter.set_tensor(input_details[0]['index'], to_predict)\n",
        "interpreter.invoke()\n",
        "tflite_results = interpreter.get_tensor(output_details[0]['index'])\n",
        "print(tflite_results)"
      ],
      "metadata": {
        "colab": {
          "base_uri": "https://localhost:8080/"
        },
        "id": "WZgGWflVwcPd",
        "outputId": "9e67d271-3bb6-4033-e108-5936f02ea294"
      },
      "execution_count": 191,
      "outputs": [
        {
          "output_type": "stream",
          "name": "stdout",
          "text": [
            "[[7.8095468e-03 3.2197237e-02 6.8997997e-01 5.8053754e-04 2.6943266e-01]]\n"
          ]
        }
      ]
    },
    {
      "cell_type": "code",
      "source": [
        "list=[0,1,2,3,4]\n",
        "X=tflite_results\n",
        "for i in range(5):\n",
        "  for j in range(5):\n",
        "    if X[0][list[i]] > X[0][list[j]]:\n",
        "      temp=list[i]\n",
        "      list[i]=list[j]\n",
        "      list[j]=temp\n",
        "\n",
        "\n",
        "list"
      ],
      "metadata": {
        "colab": {
          "base_uri": "https://localhost:8080/"
        },
        "id": "-s1BS8hTwjDg",
        "outputId": "1980fd60-584e-4555-d323-3e4de5a5ca61"
      },
      "execution_count": 192,
      "outputs": [
        {
          "output_type": "execute_result",
          "data": {
            "text/plain": [
              "[2, 4, 1, 0, 3]"
            ]
          },
          "metadata": {},
          "execution_count": 192
        }
      ]
    },
    {
      "cell_type": "code",
      "source": [
        "class_list=[\"Class 0\",\"Class 1\",\"Class 2\",\"Class 3\",\"Class 4\"]"
      ],
      "metadata": {
        "id": "xB6KpTHqwnes"
      },
      "execution_count": 193,
      "outputs": []
    },
    {
      "cell_type": "code",
      "source": [
        "for i in range(5):\n",
        "  print(class_list[list[i]],\" sa predictions \",round(tflite_results[0][list[i]]*100 , 2),\"%\")"
      ],
      "metadata": {
        "colab": {
          "base_uri": "https://localhost:8080/"
        },
        "id": "44Drcq-vwq0n",
        "outputId": "a9c8950d-2a7f-4de2-e21d-c136bbdee779"
      },
      "execution_count": 194,
      "outputs": [
        {
          "output_type": "stream",
          "name": "stdout",
          "text": [
            "Class 2  sa predictions  69.0 %\n",
            "Class 4  sa predictions  26.94 %\n",
            "Class 1  sa predictions  3.22 %\n",
            "Class 0  sa predictions  0.78 %\n",
            "Class 3  sa predictions  0.06 %\n"
          ]
        }
      ]
    }
  ]
}